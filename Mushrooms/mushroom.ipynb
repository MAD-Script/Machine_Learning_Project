{
 "cells": [
  {
   "cell_type": "markdown",
   "metadata": {},
   "source": [
    "Importing the Libraries.\n",
    "Fetching the mushroom dataset from the UCI Machine Learning Repository."
   ]
  },
  {
   "cell_type": "code",
   "execution_count": 36,
   "metadata": {},
   "outputs": [],
   "source": [
    "# Importing libraries\n",
    "from ucimlrepo import fetch_ucirepo \n",
    "import pandas as pd\n",
    "import numpy as np\n",
    "from sklearn import preprocessing, model_selection, svm\n",
    "\n",
    "# fetch dataset from UCI Machine Learning Repository\n",
    "mushroom = fetch_ucirepo(id=73) \n",
    "\n",
    "# data as pandas dataframes\n",
    "mushroom_df = pd.DataFrame.from_dict(mushroom.data.original)"
   ]
  },
  {
   "cell_type": "markdown",
   "metadata": {},
   "source": [
    "not sure if this helps but i dropped the rows with null elements "
   ]
  },
  {
   "cell_type": "code",
   "execution_count": 37,
   "metadata": {},
   "outputs": [
    {
     "name": "stdout",
     "output_type": "stream",
     "text": [
      "Number of elements before: 8124\n",
      "Number of null elements before: 2480\n",
      "Number of elements remaining: 5644\n",
      "Number of null elements after: 0\n",
      "  cap-shape cap-surface cap-color bruises odor gill-attachment gill-spacing  \\\n",
      "0         x           s         n       t    p               f            c   \n",
      "1         x           s         y       t    a               f            c   \n",
      "2         b           s         w       t    l               f            c   \n",
      "3         x           y         w       t    p               f            c   \n",
      "4         x           s         g       f    n               f            w   \n",
      "\n",
      "  gill-size gill-color stalk-shape  ... stalk-color-above-ring  \\\n",
      "0         n          k           e  ...                      w   \n",
      "1         b          k           e  ...                      w   \n",
      "2         b          n           e  ...                      w   \n",
      "3         n          n           e  ...                      w   \n",
      "4         b          k           t  ...                      w   \n",
      "\n",
      "  stalk-color-below-ring veil-type veil-color ring-number ring-type  \\\n",
      "0                      w         p          w           o         p   \n",
      "1                      w         p          w           o         p   \n",
      "2                      w         p          w           o         p   \n",
      "3                      w         p          w           o         p   \n",
      "4                      w         p          w           o         e   \n",
      "\n",
      "  spore-print-color population habitat poisonous  \n",
      "0                 k          s       u         p  \n",
      "1                 n          n       g         e  \n",
      "2                 n          n       m         e  \n",
      "3                 k          s       u         p  \n",
      "4                 n          a       g         e  \n",
      "\n",
      "[5 rows x 23 columns]\n"
     ]
    }
   ],
   "source": [
    "\n",
    "# number of rows before \n",
    "elements = mushroom_df.shape[0]\n",
    "print(f\"Number of elements before: {elements}\")\n",
    "\n",
    "# checking for NULL elements\n",
    "null_elements = mushroom_df.isnull().sum().sum()\n",
    "print(f\"Number of null elements before: {null_elements}\")\n",
    "\n",
    "# removing rows with null elements\n",
    "mushroom_df = mushroom_df.dropna()\n",
    "\n",
    "# number of rows after\n",
    "elements = mushroom_df.shape[0]\n",
    "print(f\"Number of elements remaining: {elements}\")\n",
    "\n",
    "# check for null elements after removing\n",
    "null_elements = mushroom_df.isnull().sum().sum()\n",
    "print(f\"Number of null elements after: {null_elements}\")\n",
    "\n",
    "print(mushroom_df.head())\n"
   ]
  },
  {
   "cell_type": "markdown",
   "metadata": {},
   "source": [
    "Got to look at the dataset and figuring out the features which are significant to determine if a mushroom is poisonous"
   ]
  },
  {
   "cell_type": "code",
   "execution_count": 28,
   "metadata": {},
   "outputs": [
    {
     "name": "stdout",
     "output_type": "stream",
     "text": [
      "cap-shape ['x' 'b' 's' 'f' 'k' 'c']\n",
      "cap-surface ['s' 'y' 'f' 'g']\n",
      "cap-color ['n' 'y' 'w' 'g' 'e' 'p' 'b' 'c']\n",
      "bruises ['t' 'f']\n",
      "odor ['p' 'a' 'l' 'n' 'f' 'c' 'm']\n",
      "gill-attachment ['f' 'a']\n",
      "gill-spacing ['c' 'w']\n",
      "gill-size ['n' 'b']\n",
      "gill-color ['k' 'n' 'g' 'p' 'w' 'h' 'u' 'r' 'y']\n",
      "stalk-shape ['e' 't']\n",
      "stalk-root ['e' 'c' 'b' 'r']\n",
      "stalk-surface-above-ring ['s' 'f' 'k' 'y']\n",
      "stalk-surface-below-ring ['s' 'f' 'y' 'k']\n",
      "stalk-color-above-ring ['w' 'g' 'p' 'n' 'b' 'c' 'y']\n",
      "stalk-color-below-ring ['w' 'p' 'g' 'b' 'n' 'c' 'y']\n",
      "veil-type ['p']\n",
      "veil-color ['w' 'y']\n",
      "ring-number ['o' 't' 'n']\n",
      "ring-type ['p' 'e' 'l' 'n']\n",
      "spore-print-color ['k' 'n' 'u' 'h' 'r' 'w']\n",
      "population ['s' 'n' 'a' 'v' 'y' 'c']\n",
      "habitat ['u' 'g' 'm' 'd' 'p' 'l']\n",
      "poisonous ['p' 'e']\n"
     ]
    }
   ],
   "source": [
    "# get unique values for each column of data in the X dataframe\n",
    "\n",
    "for col in mushroom_df.columns:\n",
    "    print(col, mushroom_df[col].unique())\n"
   ]
  },
  {
   "cell_type": "markdown",
   "metadata": {},
   "source": [
    "With a bit of searching i found that \"Amanita\" Mushrooms are mostly poisonous and has some features that are significant to determine it. \n",
    "\n",
    "1. color\n",
    "2. cap shape\n",
    "3. Bruises\n",
    "4. cap texture\n",
    "5. cap surface\n",
    "6. Stalk Root\n",
    "7. Stalk ring\n",
    "8. Gill\n",
    "9. Gill color\n",
    "10. Spore color\n",
    "11. Odor ( most edible mushrooms have musky earthy smell while poisonous ones have bad odor)\n",
    "\n",
    "so the rest can be safely discarded \n"
   ]
  },
  {
   "cell_type": "code",
   "execution_count": 38,
   "metadata": {},
   "outputs": [
    {
     "name": "stdout",
     "output_type": "stream",
     "text": [
      "  cap-shape cap-surface cap-color bruises odor gill-size gill-color  \\\n",
      "0         x           s         n       t    p         n          k   \n",
      "1         x           s         y       t    a         b          k   \n",
      "2         b           s         w       t    l         b          n   \n",
      "3         x           y         w       t    p         n          n   \n",
      "4         x           s         g       f    n         b          k   \n",
      "\n",
      "  stalk-shape stalk-root veil-color ring-number ring-type spore-print-color  \\\n",
      "0           e          e          w           o         p                 k   \n",
      "1           e          c          w           o         p                 n   \n",
      "2           e          c          w           o         p                 n   \n",
      "3           e          e          w           o         p                 k   \n",
      "4           t          e          w           o         e                 n   \n",
      "\n",
      "  habitat poisonous  \n",
      "0       u         p  \n",
      "1       g         e  \n",
      "2       m         e  \n",
      "3       u         p  \n",
      "4       g         e  \n"
     ]
    }
   ],
   "source": [
    "mushroom_df = mushroom_df.drop(\n",
    "    [\n",
    "        \"gill-attachment\",\n",
    "        \"gill-spacing\",\n",
    "        \"stalk-surface-above-ring\",\n",
    "        \"stalk-surface-below-ring\",\n",
    "        \"stalk-color-above-ring\",\n",
    "        \"stalk-color-below-ring\",\n",
    "        \"veil-type\",\n",
    "        \"population\"\n",
    "    ], axis=1\n",
    ")\n",
    "\n",
    "print(mushroom_df.head())"
   ]
  },
  {
   "cell_type": "code",
   "execution_count": 39,
   "metadata": {},
   "outputs": [
    {
     "name": "stdout",
     "output_type": "stream",
     "text": [
      "  cap-shape cap-surface cap-color  bruises odor gill-size gill-color  \\\n",
      "0         x           s         n     True    p         n          k   \n",
      "1         x           s         y     True    a         b          k   \n",
      "2         b           s         w     True    l         b          n   \n",
      "3         x           y         w     True    p         n          n   \n",
      "4         x           s         g    False    n         b          k   \n",
      "\n",
      "  stalk-shape stalk-root veil-color ring-number ring-type spore-print-color  \\\n",
      "0           e          e          w           o         p                 k   \n",
      "1           e          c          w           o         p                 n   \n",
      "2           e          c          w           o         p                 n   \n",
      "3           e          e          w           o         p                 k   \n",
      "4           t          e          w           o         e                 n   \n",
      "\n",
      "  habitat  poisonous  \n",
      "0       u       True  \n",
      "1       g      False  \n",
      "2       m      False  \n",
      "3       u       True  \n",
      "4       g      False  \n"
     ]
    }
   ],
   "source": [
    "categories = [\n",
    "    \"cap-shape\",\n",
    "    \"cap-surface\",\n",
    "    \"cap-color\",\n",
    "    \"odor\",\n",
    "    \"gill-size\",\n",
    "    \"gill-color\",\n",
    "    \"stalk-shape\",\n",
    "    \"stalk-root\",\n",
    "    \"veil-color\",\n",
    "    \"ring-number\",\n",
    "    \"ring-type\",\n",
    "    \"spore-print-color\",\n",
    "    \"habitat\"    \n",
    "    ]\n",
    "\n",
    "mushroom_df[categories] = mushroom_df[categories].astype(\"category\")\n",
    "\n",
    "\n",
    "# map column bruises t as True and f as False boolean value\n",
    "mushroom_df[\"bruises\"] = mushroom_df[\"bruises\"].map({\"t\": True, \"f\": False})\n",
    "\n",
    "# map column poisonous  p as True and e as False boolean value\n",
    "mushroom_df[\"poisonous\"] = mushroom_df[\"poisonous\"].map({\"p\": True, \"e\": False})\n",
    "\n",
    "\n",
    "# print(mushroom_df.dtypes)\n",
    "print(mushroom_df.head())"
   ]
  },
  {
   "cell_type": "code",
   "execution_count": 40,
   "metadata": {},
   "outputs": [
    {
     "name": "stdout",
     "output_type": "stream",
     "text": [
      "   bruises  poisonous  cap-shape_b  cap-shape_c  cap-shape_f  cap-shape_k  \\\n",
      "0     True       True            0            0            0            0   \n",
      "1     True      False            0            0            0            0   \n",
      "2     True      False            1            0            0            0   \n",
      "3     True       True            0            0            0            0   \n",
      "4    False      False            0            0            0            0   \n",
      "\n",
      "   cap-shape_s  cap-shape_x  cap-surface_f  cap-surface_g  ...  \\\n",
      "0            0            1              0              0  ...   \n",
      "1            0            1              0              0  ...   \n",
      "2            0            0              0              0  ...   \n",
      "3            0            1              0              0  ...   \n",
      "4            0            1              0              0  ...   \n",
      "\n",
      "   spore-print-color_n  spore-print-color_r  spore-print-color_u  \\\n",
      "0                    0                    0                    0   \n",
      "1                    1                    0                    0   \n",
      "2                    1                    0                    0   \n",
      "3                    0                    0                    0   \n",
      "4                    1                    0                    0   \n",
      "\n",
      "   spore-print-color_w  habitat_d  habitat_g  habitat_l  habitat_m  habitat_p  \\\n",
      "0                    0          0          0          0          0          0   \n",
      "1                    0          0          1          0          0          0   \n",
      "2                    0          0          0          0          1          0   \n",
      "3                    0          0          0          0          0          0   \n",
      "4                    0          0          1          0          0          0   \n",
      "\n",
      "   habitat_u  \n",
      "0          1  \n",
      "1          0  \n",
      "2          0  \n",
      "3          1  \n",
      "4          0  \n",
      "\n",
      "[5 rows x 65 columns]\n"
     ]
    }
   ],
   "source": [
    "# get dummies for categorical data\n",
    "mushroom_df = pd.get_dummies(mushroom_df)\n",
    "\n",
    "# print the first few lines of the dataframe\n",
    "print(mushroom_df.head())"
   ]
  },
  {
   "cell_type": "markdown",
   "metadata": {},
   "source": [
    "Seperated the Features form the Targets from the dataset"
   ]
  },
  {
   "cell_type": "code",
   "execution_count": 32,
   "metadata": {},
   "outputs": [],
   "source": [
    "# creating X and y dataframes\n",
    "X =  mushroom_df.drop(\"poisonous\", axis=1)\n",
    "y =  mushroom_df[\"poisonous\"]\n"
   ]
  },
  {
   "cell_type": "code",
   "execution_count": 33,
   "metadata": {},
   "outputs": [],
   "source": [
    "# split the dataset into training and testing sets\n",
    "X_train, X_test, y_train, y_test = model_selection.train_test_split(X, y, test_size=0.2)\n"
   ]
  },
  {
   "cell_type": "code",
   "execution_count": 34,
   "metadata": {},
   "outputs": [
    {
     "name": "stdout",
     "output_type": "stream",
     "text": [
      "Accuracy: 1.0\n"
     ]
    }
   ],
   "source": [
    "# create the model\n",
    "clf = svm.SVC()\n",
    "# train the model\n",
    "clf.fit(X_train, y_train)\n",
    "# get the accuracy of the model\n",
    "accuracy = clf.score(X_test, y_test)\n",
    "# print the accuracy of the model\n",
    "print(f\"Accuracy: {accuracy}\")"
   ]
  },
  {
   "cell_type": "code",
   "execution_count": 35,
   "metadata": {},
   "outputs": [
    {
     "name": "stdout",
     "output_type": "stream",
     "text": [
      "Train Accuracy: 1.0\n",
      "Test Accuracy: 1.0\n",
      "Train Log Loss: 2.220446049250313e-16\n",
      "Test Log Loss: 2.220446049250313e-16\n"
     ]
    }
   ],
   "source": [
    "from sklearn.model_selection import train_test_split\n",
    "from sklearn.linear_model import LogisticRegression\n",
    "from sklearn.metrics import accuracy_score, log_loss\n",
    "\n",
    "# create a linear regression model\n",
    "model = LogisticRegression()\n",
    "# train the model\n",
    "model.fit(X_train, y_train)\n",
    "\n",
    "# make predictions on both train and test sets\n",
    "y_pred_train = model.predict(X_train)\n",
    "y_pred_test = model.predict(X_test)\n",
    "\n",
    "# Calculate accuracy of test and train\n",
    "accuracy_train = accuracy_score(y_train, y_pred_train)\n",
    "accuracy_test = accuracy_score(y_test, y_pred_test)\n",
    "\n",
    "# Calculate log loss of test and train\n",
    "log_loss_train = log_loss(y_train, y_pred_train)\n",
    "log_loss_test = log_loss(y_test, y_pred_test)\n",
    "\n",
    "# print the train and test accuracy and log loss of the model\n",
    "print(f\"Train Accuracy: {accuracy_train}\")\n",
    "print(f\"Test Accuracy: {accuracy_test}\")\n",
    "print(f\"Train Log Loss: {log_loss_train}\")\n",
    "print(f\"Test Log Loss: {log_loss_test}\")\n",
    "\n",
    "\n",
    "\n"
   ]
  },
  {
   "cell_type": "markdown",
   "metadata": {},
   "source": []
  }
 ],
 "metadata": {
  "kernelspec": {
   "display_name": "Python 3",
   "language": "python",
   "name": "python3"
  },
  "language_info": {
   "codemirror_mode": {
    "name": "ipython",
    "version": 3
   },
   "file_extension": ".py",
   "mimetype": "text/x-python",
   "name": "python",
   "nbconvert_exporter": "python",
   "pygments_lexer": "ipython3",
   "version": "3.10.11"
  }
 },
 "nbformat": 4,
 "nbformat_minor": 2
}
